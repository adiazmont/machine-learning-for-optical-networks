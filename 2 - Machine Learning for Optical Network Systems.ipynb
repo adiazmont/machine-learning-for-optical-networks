{
 "cells": [
  {
   "cell_type": "markdown",
   "metadata": {},
   "source": [
    "# 2 - Machine Learning for Optical Network Systems\n",
    "\n",
    "Welcome to the second part of the practical session of the Workshop __Machine Learning for Optical Network Systems!__\n",
    "In this exercise you will:\n",
    " - Implement a prediction model based on the Support Vector Machines (SVM) algorithm in order to predict the Quality of Transmission in terms of the Optical Signal-to-Noise Ratio (OSNR) of an optical lightpath before establishement.\n",
    " - Use your model to build a multi-classification system that will determine the appropriate modulation format to be used for transmission give the predicted OSNR.\n",
    " - Use practical statistical tools to evaluate the performance of your SVM-based classification system.\n",
    "\n",
    "__Let's go!__\n",
    "\n",
    "## Problem description\n",
    "\n",
    "Technologies such as Bandwidth Variable Transceivers (BVTs) are enabling the optimise usage of spectrum resources in an emerging area commonly referred to as Elastic Optical Networks (EONs). In the context of this type of networks, a control/management system should be able to dynamically reconfigure the modulation format and phase of a transceiver for spectrum and wavelength allocation. In recent years, efforts have been put together to implement cognitive performance as part of the control systems on top of optical networks. In this example, you are going to build a multi-classification system that will allow you to determine the appropriate modulation format to use for a BVT, given a lightpath request.\n",
    "\n",
    "This exercise is based on the research paper Active Wavelength Load as a Feature for QoT Estimation Based on Support Vector Machine, which you can find in this folder (Go to File -> Open -> and click on the directory publications/ and file diaz2019active.pdf). Please refer to the paper for the description of the data.\n",
    "\n",
    "\n",
    "## Getting started\n",
    "\n",
    "### 1 - Import the required libraries\n",
    "\n",
    "Execute the cell below so you can use the important libraries that will allow you to do the exercies. If you have doubts about the Scikit-learn framework please refer to the [documentation](https://scikit-learn.org/stable/documentation.html)."
   ]
  },
  {
   "cell_type": "code",
   "execution_count": null,
   "metadata": {},
   "outputs": [],
   "source": [
    "import file_reader as fr\n",
    "import numpy as np\n",
    "import plot_statistics as ps\n",
    "from sklearn import svm, metrics\n",
    "from sklearn.metrics import roc_curve, auc\n",
    "from sklearn.model_selection import GridSearchCV\n",
    "from sklearn.preprocessing import StandardScaler"
   ]
  },
  {
   "cell_type": "markdown",
   "metadata": {},
   "source": [
    "### 2 - Load the dataset\n",
    "\n",
    "The dataset you are about to load is already split respecting a 80/20 ratio for training and testing set respectively. Run the cell below."
   ]
  },
  {
   "cell_type": "code",
   "execution_count": null,
   "metadata": {},
   "outputs": [],
   "source": [
    "training_set_file = 'dataset/trainingset.csv'\n",
    "testing_set_file = 'dataset/testset.csv'\n",
    "\n",
    "# Retrieve and format data for training set\n",
    "X_train, y_train = fr.FileReader.read_array_three_class(fr.FileReader(), training_set_file)\n",
    "\n",
    "# Retrieve and format data for testing set\n",
    "X_test, y_test = fr.FileReader.read_array_three_class(fr.FileReader(), testing_set_file)"
   ]
  },
  {
   "cell_type": "markdown",
   "metadata": {},
   "source": [
    "### 3 - Building the SVM model\n",
    "\n",
    "Now you are going to create an instance of your SVM model that we will be using later. The cell below will create an Support Vector Classifier (SVC) object and will use hyperparameters of $ C = 100 $, $ gamma = 0.0001 $, and Radial Basis Function as the kernel function. If you have any doubts about the impact of these hyperparameters please refer to the [documentation](https://scikit-learn.org/stable/modules/svm.html#svm-classification). When you are done with this exercise, come back and play around different values for these or other hyperparameters to see the different effects."
   ]
  },
  {
   "cell_type": "code",
   "execution_count": null,
   "metadata": {},
   "outputs": [],
   "source": [
    "# Set the parameters\n",
    "parameters = {'kernel':['rbf'], 'C':[10], 'gamma':[0.0001]}\n",
    "\n",
    "# Instantiate SVC model\n",
    "svc = svm.SVC()\n",
    "\n",
    "# Display the SVC model\n",
    "print(svc)"
   ]
  },
  {
   "cell_type": "markdown",
   "metadata": {},
   "source": [
    "One of the strongest features of Scikit-learn is the GridSearchCV tool from model_selection, which allows you to search the best hyperparameters for a given model, allows you to indicate the number of CPU cores you want your algorithm to use, and in allows you to use cross-validation when training your data. If you are not familiar with neither the tool nor the usage of cross-validation, please refer to the following resources: [GridSearchCV](https://scikit-learn.org/stable/modules/generated/sklearn.model_selection.GridSearchCV.html) and [Cross-Validation](https://en.wikipedia.org/wiki/Cross-validation_(statistics)). In the cell below, you will create a SVC classifier with the parameters you have declared above, and you will use 10 CPU cores and use a cross-validation of 5-fold."
   ]
  },
  {
   "cell_type": "code",
   "execution_count": null,
   "metadata": {},
   "outputs": [],
   "source": [
    "classifier = GridSearchCV(svc, parameters, n_jobs=10, cv=5)\n",
    "\n",
    "print(classifier)"
   ]
  },
  {
   "cell_type": "markdown",
   "metadata": {},
   "source": [
    "__Congratulations!__ You have built an SVC classifier that is ready to learn.\n",
    "\n",
    "### 4 - Fitting the data into your model\n",
    "\n",
    "Now what you need to do is to fit your data into the model so it can learn about it, and then use it to predict the QoT of new unestablished lightpaths. This may take a few seconds to run."
   ]
  },
  {
   "cell_type": "code",
   "execution_count": null,
   "metadata": {
    "scrolled": true
   },
   "outputs": [],
   "source": [
    "# Reshape y_train so you can fit the data with classifier.fit()\n",
    "y_train = np.argmax(y_train,axis=1)\n",
    "\n",
    "# Fit the data into the model and evaluate with the testing dataset\n",
    "y_score = classifier.fit(X_train,y_train).decision_function(X_test)\n",
    "\n",
    "print(y_score)"
   ]
  },
  {
   "cell_type": "markdown",
   "metadata": {},
   "source": [
    "### 5 - Evaluating the performance\n",
    "\n",
    "Once you have fit your data into your model, let's evaluate how well it does for predicting and classifying the unestablished lightpaths from the testing dataset.\n",
    "With Scikit-learn there are multiple [metrics](https://scikit-learn.org/stable/modules/classes.html#module-sklearn.metrics) you can use to do so, in this example you will be using the [Receiver Operating Characteristic (ROC)](https://en.wikipedia.org/wiki/Receiver_operating_characteristic) curve and the [Confusion Matrix](https://en.wikipedia.org/wiki/Confusion_matrix). Also, you will be generating a classification report with the [precision](https://en.wikipedia.org/wiki/Precision_(statistics)), [recall](https://en.wikipedia.org/wiki/Precision_and_recall) and [F1-score](https://en.wikipedia.org/wiki/F1_score) of your classifier for the multiple OSNR-classes. With the cell below you will plot these metrics; the code to do so has been provided to you."
   ]
  },
  {
   "cell_type": "code",
   "execution_count": null,
   "metadata": {},
   "outputs": [],
   "source": [
    "ps_obj = ps.PlotStats()\n",
    "\n",
    "fpr = dict()\n",
    "tpr = dict()\n",
    "roc_auc = dict()\n",
    "n_classes = y_test.shape[1]\n",
    "for i in range(n_classes):\n",
    "    fpr[i], tpr[i], _ = roc_curve(y_test[:, i], y_score[:, i])\n",
    "    roc_auc[i] = auc(fpr[i], tpr[i])\n",
    "\n",
    "fpr[\"micro\"], tpr[\"micro\"], _ = roc_curve(y_test.ravel(), y_score.ravel())\n",
    "roc_auc[\"micro\"] = auc(fpr[\"micro\"], tpr[\"micro\"])\n",
    "\n",
    "ps_obj.plot_roc_curve_multi(fpr, tpr, roc_auc, n_classes)\n",
    "\n",
    "predicted = classifier.predict(X_test)\n",
    "y_test_rs = np.argmax(y_test, axis=1)\n",
    "\n",
    "cnf_matrix = metrics.confusion_matrix(y_test_rs, predicted)\n",
    "\n",
    "ps_obj.plot_confusion_matrix(cnf_matrix, \n",
    "                            classes=[0, 1, 2, 3],\n",
    "                            normalize=True, \n",
    "                            title='Confusion matrix QoT-E ')\n",
    "\n",
    "print(\"Classification report for classifier %s:\\n%s\\n\"\n",
    "      % (classifier, metrics.classification_report(y_test_rs, predicted)))\n",
    "      "
   ]
  },
  {
   "cell_type": "markdown",
   "metadata": {},
   "source": [
    "As you can see from the report, you have an SVC model that has a good F1-score for the first and fourth classes (82% and 66% respectively), but does poorly in the other classes. In the next section of this practical session we will try to improve these."
   ]
  }
 ],
 "metadata": {
  "kernelspec": {
   "display_name": "Python 3",
   "language": "python",
   "name": "python3"
  },
  "language_info": {
   "codemirror_mode": {
    "name": "ipython",
    "version": 3
   },
   "file_extension": ".py",
   "mimetype": "text/x-python",
   "name": "python",
   "nbconvert_exporter": "python",
   "pygments_lexer": "ipython3",
   "version": "3.7.3"
  }
 },
 "nbformat": 4,
 "nbformat_minor": 2
}
