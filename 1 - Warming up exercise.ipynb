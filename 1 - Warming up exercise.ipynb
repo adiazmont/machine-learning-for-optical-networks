{
 "cells": [
  {
   "cell_type": "markdown",
   "metadata": {},
   "source": [
    "# 1 - Warming up exercise\n",
    "\n",
    "## Welcome!\n",
    "\n",
    "This is the first exercise of the practical session from the Workshop __Machine Learning for Optical Network Systems!__ In this exercise you will:\n",
    "\n",
    " - Build a simple Decision Tree Regressor using the Scikit-learn framework.\n",
    " - Use synthetic data to fit your model.\n",
    " - use your model to predict the output of data it has not seen before.\n",
    " \n",
    "The code for the execution of this session is being provided to you. And it is taken from the open-source documentation in the following [link](https://scikit-learn.org/stable/modules/tree.html#tree).\n",
    "\n",
    "__Let's go!__\n",
    "\n",
    "## Tool description\n",
    "\n",
    "### Jupyter Notebook\n",
    "\n",
    "This is a web-based IDE that allows you to execute code for multiple programming language. This practical session is all developed in Python 3, and all the software required for you to complete the exercises is provided to you.\n",
    "\n",
    "### Framework Scikit-learn Machine Learning in Python\n",
    "\n",
    "It is an open source project that allows you to implement multiple Machine Learning algorithms fast and efficient in a simple computer system. It is fully developed in Python (Scikit-learn from 0.21 requires Python 3.5 or greater) and it is available for download at this [link](https://scikit-learn.org/stable/). Although, for the execution of this practical session is not necessary that you download anything, since all the code is provided for you.\n",
    " \n",
    "## Getting started\n",
    "\n",
    "### 1 - Importing the appropriate packages\n",
    "\n",
    "Execute the cell below to import the tree class from the sklearn package."
   ]
  },
  {
   "cell_type": "code",
   "execution_count": null,
   "metadata": {},
   "outputs": [],
   "source": [
    "from sklearn import tree"
   ]
  },
  {
   "cell_type": "markdown",
   "metadata": {},
   "source": [
    "Once we have the appropriate tools, go ahead and execute the cell below to create dummy data to be fit in your model."
   ]
  },
  {
   "cell_type": "code",
   "execution_count": null,
   "metadata": {},
   "outputs": [],
   "source": [
    "X = [[1, 1], [2, 2]]\n",
    "y = [0.5, 2.5]"
   ]
  },
  {
   "cell_type": "markdown",
   "metadata": {},
   "source": [
    "- X : the parameters used to fit into your model.\n",
    "- y : the labels for each of your parameter-set given in X. For example, when the X-array gives the parameters $[0, 0]$ the label corresponds to $ 0.5 $.\n",
    "\n",
    "Now, execute the cell below to create a Decision Tree Regressor model. If you are curious enough, please refer to the [documentation](https://scikit-learn.org/stable/modules/tree.html#regression) for details of this algorithm."
   ]
  },
  {
   "cell_type": "code",
   "execution_count": null,
   "metadata": {},
   "outputs": [],
   "source": [
    "clf = tree.DecisionTreeRegressor()"
   ]
  },
  {
   "cell_type": "markdown",
   "metadata": {},
   "source": [
    "Once you have instantiated an object to keep your model, go ahead and fit the data into your model."
   ]
  },
  {
   "cell_type": "code",
   "execution_count": null,
   "metadata": {},
   "outputs": [],
   "source": [
    "clf = clf.fit(X, y)"
   ]
  },
  {
   "cell_type": "markdown",
   "metadata": {},
   "source": [
    "__Congratulations!__ you know have built your own Machine Learning model. Now it should be ready to predict the outputs of data it has not seen before."
   ]
  },
  {
   "cell_type": "code",
   "execution_count": null,
   "metadata": {},
   "outputs": [],
   "source": [
    "clf.predict([[10, 10]])"
   ]
  },
  {
   "cell_type": "markdown",
   "metadata": {},
   "source": [
    "As you can see from this example, it is very simple to get started with the Scikit-learn framework. The following parts of this practical session will be more interesting, since you will be using optical networks data to predict the Quality of Transmission of unestablished lightpaths, and you will learn how to compare multiple algorithms used for the same use cases!"
   ]
  }
 ],
 "metadata": {
  "kernelspec": {
   "display_name": "Python 3",
   "language": "python",
   "name": "python3"
  },
  "language_info": {
   "codemirror_mode": {
    "name": "ipython",
    "version": 3
   },
   "file_extension": ".py",
   "mimetype": "text/x-python",
   "name": "python",
   "nbconvert_exporter": "python",
   "pygments_lexer": "ipython3",
   "version": "3.7.3"
  }
 },
 "nbformat": 4,
 "nbformat_minor": 2
}
